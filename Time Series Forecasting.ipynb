{
 "cells": [
  {
   "cell_type": "markdown",
   "metadata": {
    "collapsed": true
   },
   "source": [
    "**Some Modeling Ideas**\n",
    "- Count timeseries models (https://cran.r-project.org/web/packages/tscount/vignettes/tsglm.pdf)\n",
    "- basic regression model with lag variables\n",
    "- If monthly, weekly seasonality is important use generalized additive model such as fbprophet (https://facebook.github.io/prophet/docs/quick_start.html#python-api)\n",
    "- scipy optimize with constraints\n",
    "- probabilistic models such as poisson or weibull models (tensorflow, pytorch, pymc3) \n",
    "- keras embedding (seq to seq model) with talos hyperparameter tuning"
   ]
  },
  {
   "cell_type": "code",
   "execution_count": 2,
   "metadata": {},
   "outputs": [],
   "source": [
    "#Helper Functions\n",
    "\n",
    "def mean_absolute_percentage_error(y_true, y_pred): \n",
    "    return np.mean(np.abs((y_true - y_pred) / y_true)) * 100\n"
   ]
  },
  {
   "cell_type": "code",
   "execution_count": null,
   "metadata": {},
   "outputs": [],
   "source": [
    "#Tinker with fbprophet model. Additive model used to fit non linear trend with weekly, monthly seasonality. Matters when we are dealing with a dataset of strong seasonality \n",
    "\n",
    "from fbprophet import Prophet\n",
    "\n",
    "reg_cols = ['....']\n",
    "\n",
    "#Format data to fbprophet format\n",
    "inp_df = Y_train.reset_index().rename(columns={'date':'ds','label':'y'})\n",
    "for c in reg_cols:\n",
    "    inp_df[c] = X_train[c].values\n",
    "\n",
    "#Fitting model\n",
    "m = Prophet()\n",
    "for c in reg_cols:\n",
    "    m.add_regressor(c)\n",
    "m.fit(inp_df)\n",
    "future = m.make_future_dataframe(periods=len(X_test))\n",
    "for c in reg_cols:\n",
    "    future[c] = pd.concat([X_train[c], X_test[c]], axis=0).values\n",
    "forecast = m.predict(future)\n",
    "display(forecast[['ds', 'yhat', 'yhat_lower', 'yhat_upper']].tail())\n",
    "\n",
    "#Plots\n",
    "fig1 = m.plot(forecast)\n",
    "fig2 = m.plot_components(forecast)\n",
    "\n",
    "#MAPE Evaluation\n",
    "tmp_df = forecast.set_index(['ds'])\n",
    "res_df = Y_test.copy(deep=True).rename(columns={'label':'y_true'})\n",
    "res_df = res_df.join(tmp_df['yhat'], how='inner').rename(columns={'yhat':'y_predict'})\n",
    "res_df['mape'] = res_df.apply(lambda row: mean_absolute_percentage_error(row['y_true'], row['y_predict']), axis=1) \n",
    "print('MAPE on test set')\n",
    "display(pd.DataFrame(res_df['mape'].describe()))\n"
   ]
  },
  {
   "cell_type": "code",
   "execution_count": null,
   "metadata": {},
   "outputs": [],
   "source": [
    "#Contextual RNN/LSTM for next n step prediction\n",
    "\n"
   ]
  },
  {
   "cell_type": "code",
   "execution_count": null,
   "metadata": {},
   "outputs": [],
   "source": [
    "#RL in timeseries\n",
    "\n"
   ]
  }
 ],
 "metadata": {
  "kernelspec": {
   "display_name": "Python 3",
   "language": "python",
   "name": "python3"
  },
  "language_info": {
   "codemirror_mode": {
    "name": "ipython",
    "version": 3
   },
   "file_extension": ".py",
   "mimetype": "text/x-python",
   "name": "python",
   "nbconvert_exporter": "python",
   "pygments_lexer": "ipython3",
   "version": "3.6.5"
  }
 },
 "nbformat": 4,
 "nbformat_minor": 2
}
