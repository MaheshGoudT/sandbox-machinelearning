{
 "cells": [
  {
   "cell_type": "code",
   "execution_count": null,
   "metadata": {
    "scrolled": false
   },
   "outputs": [],
   "source": [
    "#https://cran.r-project.org/web/packages/BTYDplus/BTYDplus.pdf\n",
    "\n",
    "library(BTYDplus)\n",
    "library(ggplot2)\n",
    "\n",
    "data(\"groceryElog\")\n",
    "\n",
    "cbs2 <- elog2cbs(groceryElog, units=\"week\",T.cal=\"2006-12-31\",T.tot=\"2007-12-30\")\n",
    "cbs3 <- elog2cbs(groceryElog, units=\"day\",T.cal=\"2006-12-31\",T.tot=\"2007-12-30\")\n",
    "\n",
    "ggplot(as.data.frame(cbs2$litt), aes(x=cbs2$litt)) + geom_histogram()+ geom_histogram(color=\"black\", fill=\"lightblue\")\n",
    "ggplot(as.data.frame(cbs3$litt), aes(x=cbs3$litt)) + geom_histogram()+ geom_histogram(color=\"black\", fill=\"lightpink\")\n",
    "\n",
    "a = groceryElog[which(groceryElog$cust=='145'),]\n",
    "plotTimingPatterns(a,T.cal = '2006-12-31', T.tot = '2007-12-30',\n",
    "title = \"Sampled Purchase Patterns\", headers = NULL)"
   ]
  },
  {
   "cell_type": "code",
   "execution_count": null,
   "metadata": {},
   "outputs": [],
   "source": [
    "import math\n",
    "import pandas as pd\n",
    "import numpy as np\n",
    "\n",
    "tmp_df = pd.DataFrame({0:np.linspace(0.0001,0.2,100)}) \n",
    "tmp_df[1] = 0.1+2*tmp_df[0]+np.random.rand()*0.1\n",
    "display(tmp_df[0].describe())\n",
    "display(tmp_df[1].describe())\n",
    "print(tmp_df.corr())\n",
    "\n",
    "tmp_df[0] = tmp_df[0].map(lambda x : math.log(x/(1-x)))\n",
    "tmp_df[1] = tmp_df[1].map(lambda x : math.log(x/(1-x)))\n",
    "print(tmp_df.corr())"
   ]
  },
  {
   "cell_type": "code",
   "execution_count": null,
   "metadata": {},
   "outputs": [],
   "source": []
  }
 ],
 "metadata": {
  "kernelspec": {
   "display_name": "Python 3",
   "language": "python",
   "name": "python3"
  },
  "language_info": {
   "codemirror_mode": {
    "name": "ipython",
    "version": 3
   },
   "file_extension": ".py",
   "mimetype": "text/x-python",
   "name": "python",
   "nbconvert_exporter": "python",
   "pygments_lexer": "ipython3",
   "version": "3.7.3"
  }
 },
 "nbformat": 4,
 "nbformat_minor": 2
}
