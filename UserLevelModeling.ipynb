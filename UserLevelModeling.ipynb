{
 "cells": [
  {
   "cell_type": "code",
   "execution_count": null,
   "metadata": {
    "scrolled": false
   },
   "outputs": [],
   "source": [
    "#https://cran.r-project.org/web/packages/BTYDplus/BTYDplus.pdf\n",
    "\n",
    "library(BTYDplus)\n",
    "library(ggplot2)\n",
    "\n",
    "data(\"groceryElog\")\n",
    "\n",
    "cbs2 <- elog2cbs(groceryElog, units=\"week\",T.cal=\"2006-12-31\",T.tot=\"2007-12-30\")\n",
    "cbs3 <- elog2cbs(groceryElog, units=\"day\",T.cal=\"2006-12-31\",T.tot=\"2007-12-30\")\n",
    "\n",
    "ggplot(as.data.frame(cbs2$litt), aes(x=cbs2$litt)) + geom_histogram()+ geom_histogram(color=\"black\", fill=\"lightblue\")\n",
    "ggplot(as.data.frame(cbs3$litt), aes(x=cbs3$litt)) + geom_histogram()+ geom_histogram(color=\"black\", fill=\"lightpink\")\n",
    "\n",
    "# cbs2[cbs2$cust=='145',]\n",
    "\n",
    "a = groceryElog[which(groceryElog$cust=='145'),]\n",
    "plotTimingPatterns(a,T.cal = '2006-12-31', T.tot = '2007-12-30',\n",
    "title = \"Sampled Purchase Patterns\", headers = NULL)"
   ]
  },
  {
   "cell_type": "code",
   "execution_count": null,
   "metadata": {},
   "outputs": [],
   "source": []
  }
 ],
 "metadata": {
  "kernelspec": {
   "display_name": "R",
   "language": "R",
   "name": "ir"
  },
  "language_info": {
   "codemirror_mode": "r",
   "file_extension": ".r",
   "mimetype": "text/x-r-source",
   "name": "R",
   "pygments_lexer": "r",
   "version": "3.4.4"
  }
 },
 "nbformat": 4,
 "nbformat_minor": 2
}
