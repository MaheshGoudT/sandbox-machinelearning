{
 "cells": [
  {
   "cell_type": "code",
   "execution_count": null,
   "metadata": {
    "collapsed": true
   },
   "outputs": [],
   "source": [
    "import keras\n",
    "print(keras.__version__)\n",
    "\n",
    "import tensorflow as tf\n",
    "print(tf.__version__)\n",
    "\n",
    "# from PIL import Image\n",
    "# img = Image.open(\"img.png\").getdata()\n",
    "# print(len(img))\n",
    "\n",
    "from scipy import misc\n",
    "img = misc.imread(\"img.png\")\n",
    "print(img.shape)\n",
    "# misc.pilutil.imshow(img). #Some issues. Fix Later\n"
   ]
  },
  {
   "cell_type": "code",
   "execution_count": null,
   "metadata": {
    "collapsed": true,
    "scrolled": true
   },
   "outputs": [],
   "source": [
    "from keras.models import Sequential\n",
    "from keras.layers import Conv2D\n",
    "from keras.layers import MaxPooling2D\n",
    "from keras.layers import Flatten\n",
    "from keras.layers import Dense\n",
    "from keras.preprocessing.image import ImageDataGenerator\n",
    "from keras.models import model_from_json\n",
    "import numpy as np\n",
    "import os\n",
    "\n",
    "classifier = Sequential()\n",
    "classifier.add(Conv2D(32, (3, 3), input_shape = (64, 64, 1), activation = 'relu'))\n",
    "\n",
    "#keras.layers.Conv2D(filters, kernel_size, strides=(1, 1), padding='valid', data_format=None, dilation_rate=(1, 1), activation=None, use_bias=True, kernel_initializer='glorot_uniform', bias_initializer='zeros', kernel_regularizer=None, bias_regularizer=None, activity_regularizer=None, kernel_constraint=None, bias_constraint=None)\n",
    "\n",
    "classifier.add(MaxPooling2D(pool_size = (2, 2)))\n",
    "classifier.add(Flatten())\n",
    "classifier.add(Dense(units = 128, activation = 'relu'))\n",
    "classifier.add(Dense(units = 1, activation = 'softmax'))\n",
    "classifier.compile(optimizer = 'adam', loss = 'categorical_crossentropy', metrics = ['accuracy'])\n",
    "\n",
    "train_datagen = ImageDataGenerator(rescale = 1./255,\n",
    "    rotation_range=10,\n",
    "    shear_range = 0.2,\n",
    "    zoom_range = 0.2,\n",
    "    horizontal_flip = False)\n",
    "\n",
    "test_datagen = ImageDataGenerator(rescale = 1./255)\n",
    "\n",
    "training_set = train_datagen.flow_from_directory('train',\n",
    "    target_size = (64, 64),\n",
    "    batch_size = 2,\n",
    "    color_mode = 'grayscale',\n",
    "    class_mode = 'categorical')\n",
    "print(training_set.class_indices)\n",
    "indices = training_set.class_indices\n",
    "\n",
    "test_set = test_datagen.flow_from_directory('test',\n",
    "    target_size = (64, 64),\n",
    "    batch_size = 2,\n",
    "    color_mode = 'grayscale',\n",
    "    class_mode = 'categorical')\n",
    "print(test_set.class_indices)\n",
    "indices = test_set.class_indices\n",
    "f=open(\"targetfile\",\"w\")\n",
    "f.write(str(indices))\n",
    "\n",
    "classifier.fit_generator(training_set,\n",
    "    steps_per_epoch = 1,\n",
    "    epochs = 1,\n",
    "    validation_data = test_set,\n",
    "    validation_steps = 1)\n",
    "\n",
    "model_json = classifier.to_json()\n",
    "with open(\"model.json\", \"w\") as json_file:\n",
    "    json_file.write(model_json)\n",
    "classifier.save_weights(\"model.h5\")\n",
    "print(\"Saved model to disk\")\n"
   ]
  },
  {
   "cell_type": "code",
   "execution_count": null,
   "metadata": {
    "collapsed": true
   },
   "outputs": [],
   "source": [
    "#Neural Network visualizer\n",
    "\n",
    "from ann_visualizer.visualize import ann_viz\n",
    "#Build your model here\n",
    "ann_viz(classifier)"
   ]
  }
 ],
 "metadata": {
  "kernelspec": {
   "display_name": "Python 2",
   "language": "python",
   "name": "python2"
  },
  "language_info": {
   "codemirror_mode": {
    "name": "ipython",
    "version": 2
   },
   "file_extension": ".py",
   "mimetype": "text/x-python",
   "name": "python",
   "nbconvert_exporter": "python",
   "pygments_lexer": "ipython2",
   "version": "2.7.14"
  }
 },
 "nbformat": 4,
 "nbformat_minor": 2
}
