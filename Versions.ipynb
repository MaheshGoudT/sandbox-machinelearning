{
 "cells": [
  {
   "cell_type": "raw",
   "metadata": {},
   "source": [
    "#scikit learn model dependencies\n",
    "\n",
    "boto3\n",
    "requests\n",
    "pandas==0.24.2\n",
    "numpy==1.16.2\n",
    "scikit-learn==0.20.3\n",
    "scipy==1.2.1\n",
    "datetime"
   ]
  }
 ],
 "metadata": {
  "kernelspec": {
   "display_name": "Python 3",
   "language": "python",
   "name": "python3"
  },
  "language_info": {
   "codemirror_mode": {
    "name": "ipython",
    "version": 3
   },
   "file_extension": ".py",
   "mimetype": "text/x-python",
   "name": "python",
   "nbconvert_exporter": "python",
   "pygments_lexer": "ipython3",
   "version": "3.7.3"
  }
 },
 "nbformat": 4,
 "nbformat_minor": 2
}
