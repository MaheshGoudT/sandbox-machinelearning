{
 "cells": [
  {
   "cell_type": "code",
   "execution_count": null,
   "metadata": {
    "collapsed": true
   },
   "outputs": [],
   "source": [
    "import pandas as pd\n",
    "import numpy as np\n",
    "\n",
    "from IPython.display import display, HTML"
   ]
  },
  {
   "cell_type": "code",
   "execution_count": null,
   "metadata": {
    "collapsed": true
   },
   "outputs": [],
   "source": [
    "#Dummy data for plotly plots\n",
    "\n",
    "tmp_df = pd.DataFrame(np.random.rand(4,4))\n",
    "tmp_df.columns = ['c1','c2','c3','c4']\n"
   ]
  },
  {
   "cell_type": "code",
   "execution_count": null,
   "metadata": {
    "collapsed": true
   },
   "outputs": [],
   "source": [
    "#Plotly interactive scatter plot code (offline mode)\n",
    "\n",
    "def generate_plotly_offline_scatter_plot(cur_df, x_feat, y_feat, color_feat, color_categorical_flag, \n",
    "                                         metadata_feat, x_feat_max, y_feat_max):\n",
    "\n",
    "    import plotly\n",
    "    from plotly.graph_objs import Layout, Scattergl, Marker, ColorBar, Data, Figure\n",
    "    plotly.offline.init_notebook_mode(connected=True)\n",
    "    import sklearn\n",
    "    import sklearn.preprocessing\n",
    "    from collections import defaultdict\n",
    "\n",
    "    if color_categorical_flag:\n",
    "        lbl_enc = sklearn.preprocessing.LabelEncoder()\n",
    "        uniq_color_categories = cur_df[color_feat].unique()\n",
    "        uniq_color_categories.sort()\n",
    "        lbl_enc.fit(uniq_color_categories)\n",
    "        lbl_col_s = lbl_enc.transform(cur_df[color_feat])\n",
    "        c_df = lbl_col_s\n",
    "    else:\n",
    "        c_df = tmp_df[color_feat]\n",
    "\n",
    "    sct_plot = Scattergl(\n",
    "        x=tmp_df[x_feat], \n",
    "        y=tmp_df[y_feat], \n",
    "        mode='markers',\n",
    "        marker=Marker(\n",
    "            size='5',\n",
    "            color=c_df.tolist(),\n",
    "            colorbar=ColorBar(\n",
    "                title=color_feat\n",
    "            ),\n",
    "            colorscale='Viridis'\n",
    "        ),\n",
    "        text=tmp_df[metadata_feat].tolist()\n",
    "    )\n",
    "    line_plot = Scattergl(\n",
    "        x=[0,x_feat_max], \n",
    "        y=[0,y_feat_max], \n",
    "        mode='lines',\n",
    "    )\n",
    "    data = Data([sct_plot, line_plot])\n",
    "    layout = Layout(\n",
    "        title='%s vs %s scatter plot (color encoded by %s)'%(x_feat, y_feat, color_feat), \n",
    "        xaxis={'title':x_feat}, \n",
    "        yaxis={'title':y_feat}\n",
    "    )\n",
    "\n",
    "    figure=Figure(data=data, layout=layout)\n",
    "    plotly.offline.iplot(figure)\n",
    "\n",
    "generate_plotly_offline_scatter_plot(cur_df=tmp_df, x_feat='c1', y_feat='c2', color_feat='c3', color_categorical_flag=True, \n",
    "                                         metadata_feat='c4', x_feat_max=1, y_feat_max=1)\n"
   ]
  },
  {
   "cell_type": "code",
   "execution_count": null,
   "metadata": {
    "collapsed": true
   },
   "outputs": [],
   "source": [
    "# Google Facet dive. Much better than plotly\n",
    "# https://research.googleblog.com/2017/07/facets-open-source-visualization-tool.html\n",
    "\n",
    "def generate_facetview_plot(cur_df, cur_fields):    \n",
    "    jsonstr = cur_df[cur_fields].to_json(orient='records')\n",
    "    HTML_TEMPLATE = \"\"\"<link rel=\"import\" href=\"/nbextensions/facets-dist/facets-jupyter.html\">\n",
    "            <facets-dive id=\"elem\" height=\"600\"></facets-dive>\n",
    "            <script>\n",
    "              var data = {jsonstr};\n",
    "              document.querySelector(\"#elem\").data = data;\n",
    "            </script>\"\"\"\n",
    "    html = HTML_TEMPLATE.format(jsonstr=jsonstr)\n",
    "    display(HTML(html))\n",
    "\n",
    "generate_facetview_plot(tmp_df, tmp_df.columns)"
   ]
  }
 ],
 "metadata": {
  "kernelspec": {
   "display_name": "Python 2",
   "language": "python",
   "name": "python2"
  },
  "language_info": {
   "codemirror_mode": {
    "name": "ipython",
    "version": 2
   },
   "file_extension": ".py",
   "mimetype": "text/x-python",
   "name": "python",
   "nbconvert_exporter": "python",
   "pygments_lexer": "ipython2",
   "version": "2.7.14"
  }
 },
 "nbformat": 4,
 "nbformat_minor": 2
}
